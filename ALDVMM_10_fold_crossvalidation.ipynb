{
 "cells": [
  {
   "cell_type": "code",
   "execution_count": null,
   "metadata": {
    "vscode": {
     "languageId": "r"
    }
   },
   "outputs": [],
   "source": [
    "library(\"aldvmm\")"
   ]
  },
  {
   "cell_type": "code",
   "execution_count": null,
   "metadata": {
    "vscode": {
     "languageId": "r"
    }
   },
   "outputs": [],
   "source": [
    "# you need to include these variables in your dataset: \n",
    "# utility, age, gender, pcs, mcs, kdcs, effect, burden, symptom, \n",
    "# as well as their square_effect and interation effect.\n",
    "data <- read.csv(\"your_path.csv\")\n",
    "\n",
    "data$kdcs <- (data$effect + data$burden + data$symptom) / 3\n",
    "\n",
    "# 预处理平方项，确保数据完整\n",
    "data$pcs_sq <- data$pcs^2\n",
    "data$mcs_sq <- data$mcs^2\n",
    "data$kdcs_sq <- data$kdcs^2\n",
    "data$effect_sq <- data$effect^2\n",
    "data$burden_sq <- data$burden^2\n",
    "data$symptom_sq <- data$symptom^2\n",
    "\n",
    "# 交互项\n",
    "data$pcs_kdcs <- data$pcs * data$kdcs\n",
    "data$mcs_kdcs <- data$mcs * data$kdcs\n",
    "data$pcs_mcs <- data$pcs * data$mcs\n",
    "data$pcs_effect <- data$pcs * data$effect\n",
    "data$pcs_burden <- data$pcs * data$burden\n",
    "data$pcs_symptom <- data$pcs * data$symptom\n",
    "data$mcs_effect <- data$mcs * data$effect\n",
    "data$mcs_burden <- data$mcs * data$burden\n",
    "data$mcs_symptom <- data$mcs * data$symptom\n",
    "data$effect_burden <- data$effect * data$burden\n",
    "data$effect_symptom <- data$effect * data$symptom\n",
    "data$burden_symptom <- data$burden * data$symptom\n",
    "\n",
    "\n",
    "head(data)"
   ]
  },
  {
   "cell_type": "code",
   "execution_count": 63,
   "metadata": {
    "vscode": {
     "languageId": "r"
    }
   },
   "outputs": [],
   "source": [
    "# mapping KDQoL-36 to any generic QoL instrument using ALDVMM or OLS\n",
    "k_fold_cross_aldvmm <- function(data, ncp = 2, k = 10, thre = 3, psiv = c(-0.391, 0.9555), method = 'aldvmm') {\n",
    "  \n",
    "  n <- nrow(data)\n",
    "  fold_size <- floor(n / k)\n",
    "  data <- data[sample(n), ]\n",
    "\n",
    "  if (method=='aldvmm'){\n",
    "    model_specs <- list(\n",
    "    \"5_main\" = utility ~ age + gender + pcs + mcs + kdcs | 1,\n",
    "    \"7_main\" = utility ~ age + gender + pcs + mcs + effect + burden + symptom | 1,\n",
    "    \"5_sq\"   = utility ~ age + gender + pcs + mcs + kdcs + pcs_sq + mcs_sq + kdcs_sq | 1,\n",
    "    \"7_sq\"   = utility ~ age + gender + pcs + mcs + effect + burden + symptom + pcs_sq + mcs_sq + effect_sq + burden_sq + symptom_sq | 1,\n",
    "    \"5_inter\"= utility ~ age + gender + pcs + mcs + kdcs + pcs_sq + mcs_sq + kdcs_sq + pcs_kdcs + mcs_kdcs + pcs_mcs | 1,\n",
    "    \"7_inter\"= utility ~ pcs + mcs + effect + burden + symptom + age + gender + pcs_sq + mcs_sq + effect_sq + burden_sq + symptom_sq +\n",
    "                 pcs_mcs + pcs_effect + pcs_burden + pcs_symptom + mcs_effect + mcs_burden + mcs_symptom + effect_burden + effect_symptom + burden_symptom | 1\n",
    "  )\n",
    "  }\n",
    "  else if (method=='ols'){\n",
    "    model_specs <- list(\n",
    "    \"5_main\" = utility ~ age + gender + pcs + mcs + kdcs,\n",
    "    \"7_main\" = utility ~ age + gender + pcs + mcs + effect + burden + symptom,\n",
    "    \"5_sq\"   = utility ~ age + gender + pcs + mcs + kdcs + pcs_sq + mcs_sq + kdcs_sq,\n",
    "    \"7_sq\"   = utility ~ age + gender + pcs + mcs + effect + burden + symptom + pcs_sq + mcs_sq + effect_sq + burden_sq + symptom_sq,\n",
    "    \"5_inter\"= utility ~ age + gender + pcs + mcs + kdcs + pcs_sq + mcs_sq + kdcs_sq + pcs_kdcs + mcs_kdcs + pcs_mcs,\n",
    "    \"7_inter\"= utility ~ pcs + mcs + effect + burden + symptom + age + gender + pcs_sq + mcs_sq + effect_sq + burden_sq + symptom_sq +\n",
    "                 pcs_mcs + pcs_effect + pcs_burden + pcs_symptom + mcs_effect + mcs_burden + mcs_symptom + effect_burden + effect_symptom + burden_symptom\n",
    "  )\n",
    "  }\n",
    "\n",
    "  \n",
    "\n",
    "  results <- list()\n",
    "  for (key in names(model_specs)) {\n",
    "    results[[key]] <- list(me = c(), mae = c(), rmse = c())\n",
    "  }\n",
    "\n",
    "  for (i in 1:k) {\n",
    "    start <- (i - 1) * fold_size + 1\n",
    "    end <- min(i * fold_size, n)\n",
    "    \n",
    "    test_data <- data[start:end, ]\n",
    "    train_data <- data[-c(start:end), ]\n",
    "    l <- nrow(test_data)\n",
    "    \n",
    "    if (method == 'aldvmm'){\n",
    "        for (key in names(model_specs)) {\n",
    "        formula <- model_specs[[key]]\n",
    "        model <- tryCatch(\n",
    "            aldvmm(model_specs[[key]], data = train_data, psi = psiv, ncmp = ncp),\n",
    "            error = function(e) return(NULL) \n",
    "        )\n",
    "        if (!is.null(model)) {\n",
    "            predicted <- predict(model, test_data)$yhat # ncp >= 2\n",
    "            if (ncp == 1) {\n",
    "                vars_temp <- all.vars(model_specs[[key]])[-1]\n",
    "                data_temp <- test_data[, vars_temp]\n",
    "                data_temp <- cbind(rep(1, l), data_temp)\n",
    "                coe <- coef(model)\n",
    "                coe <- coe[-length(coe)]\n",
    "                predicted <- as.matrix(data_temp) %*% coe\n",
    "            } # ncp == 1\n",
    "            predicted[predicted > 1] <- 1 \n",
    "\n",
    "            me <- mean(test_data$utility - predicted, na.rm = TRUE)\n",
    "            mae <- mean(abs(test_data$utility - predicted), na.rm = TRUE)\n",
    "            rmse <- sqrt(mean((test_data$utility - predicted)^2, na.rm = TRUE))\n",
    "\n",
    "            results[[key]]$me <- c(results[[key]]$me, me)\n",
    "            results[[key]]$mae <- c(results[[key]]$mae, mae)\n",
    "            results[[key]]$rmse <- c(results[[key]]$rmse, rmse)\n",
    "            }   \n",
    "        }\n",
    "    }\n",
    "    else if (method == 'ols') {\n",
    "        for (key in names(model_specs)) {\n",
    "        model <- tryCatch(\n",
    "            lm(model_specs[[key]], data = train_data),\n",
    "            error = function(e) return(NULL) \n",
    "        )\n",
    "        if (!is.null(model)) {\n",
    "            predicted <- predict(model, test_data)\n",
    "            predicted[predicted > 1] <- 1 \n",
    "\n",
    "            me <- mean(test_data$utility - predicted, na.rm = TRUE)\n",
    "            mae <- mean(abs(test_data$utility - predicted), na.rm = TRUE)\n",
    "            rmse <- sqrt(mean((test_data$utility - predicted)^2, na.rm = TRUE))\n",
    "\n",
    "            results[[key]]$me <- c(results[[key]]$me, me)\n",
    "            results[[key]]$mae <- c(results[[key]]$mae, mae)\n",
    "            results[[key]]$rmse <- c(results[[key]]$rmse, rmse)\n",
    "            }   \n",
    "        }\n",
    "    }\n",
    "  }\n",
    "\n",
    "df_results <- do.call(rbind, lapply(names(results), function(name) {\n",
    "  me_values <- results[[name]]$me\n",
    "  mae_values <- results[[name]]$mae\n",
    "  rmse_values <- results[[name]]$rmse\n",
    "\n",
    "  if (length(me_values) < thre || length(mae_values) < thre || length(rmse_values) < thre) {\n",
    "    return(data.frame(Model = name, ME = NA, MAE = NA, RMSE = NA))\n",
    "  } else {\n",
    "    return(data.frame(\n",
    "      Model = name,\n",
    "      ME = mean(me_values, na.rm = TRUE),\n",
    "      MAE = mean(mae_values, na.rm = TRUE),\n",
    "      RMSE = mean(rmse_values, na.rm = TRUE)\n",
    "    ))\n",
    "  }\n",
    "}))\n",
    "\n",
    "}"
   ]
  },
  {
   "cell_type": "code",
   "execution_count": 64,
   "metadata": {
    "vscode": {
     "languageId": "r"
    }
   },
   "outputs": [],
   "source": [
    "res <- k_fold_cross_aldvmm(data, method = 'ols')"
   ]
  },
  {
   "cell_type": "code",
   "execution_count": null,
   "metadata": {
    "vscode": {
     "languageId": "r"
    }
   },
   "outputs": [
    {
     "data": {
      "text/html": [
       "<table class=\"dataframe\">\n",
       "<caption>A data.frame: 6 × 4</caption>\n",
       "<thead>\n",
       "\t<tr><th scope=col>Model</th><th scope=col>ME</th><th scope=col>MAE</th><th scope=col>RMSE</th></tr>\n",
       "\t<tr><th scope=col>&lt;chr&gt;</th><th scope=col>&lt;dbl&gt;</th><th scope=col>&lt;dbl&gt;</th><th scope=col>&lt;dbl&gt;</th></tr>\n",
       "</thead>\n",
       "<tbody>\n",
       "\t<tr><td>5_main </td><td>0.016262577</td><td>0.1809562</td><td>0.2450289</td></tr>\n",
       "\t<tr><td>7_main </td><td>0.015564778</td><td>0.1776993</td><td>0.2425556</td></tr>\n",
       "\t<tr><td>5_sq   </td><td>0.007612875</td><td>0.1632630</td><td>0.2311560</td></tr>\n",
       "\t<tr><td>7_sq   </td><td>0.007617405</td><td>0.1616168</td><td>0.2297086</td></tr>\n",
       "\t<tr><td>5_inter</td><td>0.008352060</td><td>0.1636894</td><td>0.2275157</td></tr>\n",
       "\t<tr><td>7_inter</td><td>0.009451354</td><td>0.1661717</td><td>0.2309900</td></tr>\n",
       "</tbody>\n",
       "</table>\n"
      ],
      "text/latex": [
       "A data.frame: 6 × 4\n",
       "\\begin{tabular}{llll}\n",
       " Model & ME & MAE & RMSE\\\\\n",
       " <chr> & <dbl> & <dbl> & <dbl>\\\\\n",
       "\\hline\n",
       "\t 5\\_main  & 0.016262577 & 0.1809562 & 0.2450289\\\\\n",
       "\t 7\\_main  & 0.015564778 & 0.1776993 & 0.2425556\\\\\n",
       "\t 5\\_sq    & 0.007612875 & 0.1632630 & 0.2311560\\\\\n",
       "\t 7\\_sq    & 0.007617405 & 0.1616168 & 0.2297086\\\\\n",
       "\t 5\\_inter & 0.008352060 & 0.1636894 & 0.2275157\\\\\n",
       "\t 7\\_inter & 0.009451354 & 0.1661717 & 0.2309900\\\\\n",
       "\\end{tabular}\n"
      ],
      "text/markdown": [
       "\n",
       "A data.frame: 6 × 4\n",
       "\n",
       "| Model &lt;chr&gt; | ME &lt;dbl&gt; | MAE &lt;dbl&gt; | RMSE &lt;dbl&gt; |\n",
       "|---|---|---|---|\n",
       "| 5_main  | 0.016262577 | 0.1809562 | 0.2450289 |\n",
       "| 7_main  | 0.015564778 | 0.1776993 | 0.2425556 |\n",
       "| 5_sq    | 0.007612875 | 0.1632630 | 0.2311560 |\n",
       "| 7_sq    | 0.007617405 | 0.1616168 | 0.2297086 |\n",
       "| 5_inter | 0.008352060 | 0.1636894 | 0.2275157 |\n",
       "| 7_inter | 0.009451354 | 0.1661717 | 0.2309900 |\n",
       "\n"
      ],
      "text/plain": [
       "  Model   ME          MAE       RMSE     \n",
       "1 5_main  0.016262577 0.1809562 0.2450289\n",
       "2 7_main  0.015564778 0.1776993 0.2425556\n",
       "3 5_sq    0.007612875 0.1632630 0.2311560\n",
       "4 7_sq    0.007617405 0.1616168 0.2297086\n",
       "5 5_inter 0.008352060 0.1636894 0.2275157\n",
       "6 7_inter 0.009451354 0.1661717 0.2309900"
      ]
     },
     "metadata": {},
     "output_type": "display_data"
    }
   ],
   "source": [
    "# testing function with my local dataset\n",
    "res"
   ]
  },
  {
   "cell_type": "code",
   "execution_count": null,
   "metadata": {
    "vscode": {
     "languageId": "r"
    }
   },
   "outputs": [],
   "source": []
  }
 ],
 "metadata": {
  "kernelspec": {
   "display_name": "R",
   "language": "R",
   "name": "ir"
  },
  "language_info": {
   "codemirror_mode": "r",
   "file_extension": ".r",
   "mimetype": "text/x-r-source",
   "name": "R",
   "pygments_lexer": "r",
   "version": "4.4.1"
  }
 },
 "nbformat": 4,
 "nbformat_minor": 2
}
